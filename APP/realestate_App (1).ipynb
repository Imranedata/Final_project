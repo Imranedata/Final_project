{
 "cells": [
  {
   "cell_type": "code",
   "execution_count": 1,
   "id": "abb9de87",
   "metadata": {},
   "outputs": [],
   "source": [
    "import warnings\n",
    "warnings.filterwarnings(\"ignore\", message=\"X does not have valid feature names, but RandomForestRegressor was fitted with feature names\")"
   ]
  },
  {
   "cell_type": "code",
   "execution_count": 2,
   "id": "126323dd",
   "metadata": {},
   "outputs": [
    {
     "data": {
      "application/vnd.jupyter.widget-view+json": {
       "model_id": "8447732d998547a0adb2f6b1d764d869",
       "version_major": 2,
       "version_minor": 0
      },
      "text/plain": [
       "VBox(children=(IntSlider(value=3, description='Bedrooms:', max=10, min=1), IntSlider(value=2, description='Bat…"
      ]
     },
     "execution_count": 2,
     "metadata": {},
     "output_type": "execute_result"
    }
   ],
   "source": [
    "import pandas as pd\n",
    "from sklearn.ensemble import RandomForestRegressor\n",
    "from sklearn.model_selection import train_test_split\n",
    "import ipywidgets as widgets\n",
    "from IPython.display import display\n",
    "\n",
    "# Load the dataset\n",
    "df = pd.read_csv('cleaned_data.csv')\n",
    "\n",
    "# Select features and target variable\n",
    "X = df[['bedrooms', 'bathrooms', 'sqft_living', 'sqft_lot', 'floors',\n",
    "       'waterfront', 'view', 'condition', 'grade', 'yr_built', 'yr_renovated', 'zipcode']]\n",
    "y = df['price']\n",
    "\n",
    "# Split the data into training and testing sets\n",
    "X_train, X_test, y_train, y_test = train_test_split(X, y, test_size=0.2, random_state=42)\n",
    "\n",
    "# Train the model\n",
    "model = RandomForestRegressor(random_state=42)\n",
    "model.fit(X_train, y_train)\n",
    "\n",
    "# Function to predict house price based on features\n",
    "def predict_price(bedrooms, bathrooms, sqft_living, sqft_lot, floors,\n",
    "                  waterfront, view, condition, grade, yr_built, yr_renovated, zipcode):\n",
    "    features = [[bedrooms, bathrooms, sqft_living, sqft_lot, floors,\n",
    "                 waterfront, view, condition, grade, yr_built, yr_renovated, zipcode]]\n",
    "    predicted_price = model.predict(features)[0]\n",
    "    return f'Predicted Price: ${predicted_price:,.0f}'\n",
    "\n",
    "# Create widgets for each feature\n",
    "bedrooms_widget = widgets.IntSlider(min=1, max=10, step=1, description='Bedrooms:', value=3)\n",
    "bathrooms_widget = widgets.IntSlider(min=0.5, max=8, step=0.5, description='Bathrooms:', value=2.5)\n",
    "sqft_living_widget = widgets.IntSlider(min=500, max=10000, step=100, description='Sqft Living:', value=1500)\n",
    "sqft_lot_widget = widgets.IntSlider(min=1000, max=50000, step=1000, description='Sqft Lot:', value=5000)\n",
    "floors_widget = widgets.IntSlider(min=1, max=3, step=0.5, description='Floors:', value=1)\n",
    "waterfront_widget = widgets.Checkbox(value=False, description='Waterfront')\n",
    "view_widget = widgets.IntSlider(min=0, max=4, step=1, description='View:', value=0)\n",
    "condition_widget = widgets.IntSlider(min=1, max=5, step=1, description='Condition:', value=3)\n",
    "grade_widget = widgets.IntSlider(min=1, max=13, step=1, description='Grade:', value=7)\n",
    "yr_built_widget = widgets.IntSlider(min=1900, max=2022, step=1, description='Year Built:', value=2000)\n",
    "yr_renovated_widget = widgets.IntSlider(min=1900, max=2022, step=1, description='Year Renovated:', value=2000)\n",
    "zipcode_widget = widgets.IntSlider(min=98000, max=98200, step=1, description='Zipcode:', value=98000)\n",
    "\n",
    "# Create button widget\n",
    "button = widgets.Button(description='Predict Price')\n",
    "\n",
    "# Function to handle button click event\n",
    "def on_button_click(event):\n",
    "    predicted_price.value = predict_price(bedrooms_widget.value, bathrooms_widget.value,\n",
    "                                          sqft_living_widget.value, sqft_lot_widget.value,\n",
    "                                          floors_widget.value, waterfront_widget.value,\n",
    "                                          view_widget.value, condition_widget.value,\n",
    "                                          grade_widget.value, yr_built_widget.value,\n",
    "                                          yr_renovated_widget.value, zipcode_widget.value)\n",
    "\n",
    "# Attach button click event to function\n",
    "button.on_click(on_button_click)\n",
    "\n",
    "# Create output widget to display predicted price\n",
    "predicted_price = widgets.Label(value='')\n",
    "\n",
    "# Display widgets\n",
    "widgets.VBox([bedrooms_widget, bathrooms_widget, sqft_living_widget, sqft_lot_widget,\n",
    "              floors_widget, waterfront_widget, view_widget, condition_widget,\n",
    "              grade_widget, yr_built_widget, yr_renovated_widget, zipcode_widget,\n",
    "              button, predicted_price])\n"
   ]
  }
 ],
 "metadata": {
  "kernelspec": {
   "display_name": "venv",
   "language": "python",
   "name": "venv"
  },
  "language_info": {
   "codemirror_mode": {
    "name": "ipython",
    "version": 3
   },
   "file_extension": ".py",
   "mimetype": "text/x-python",
   "name": "python",
   "nbconvert_exporter": "python",
   "pygments_lexer": "ipython3",
   "version": "3.10.7"
  }
 },
 "nbformat": 4,
 "nbformat_minor": 5
}
